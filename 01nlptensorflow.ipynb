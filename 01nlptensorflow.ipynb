{
  "nbformat": 4,
  "nbformat_minor": 0,
  "metadata": {
    "colab": {
      "name": "01nlptensorflow",
      "provenance": [],
      "authorship_tag": "ABX9TyPIZg8IUNlug4la7RwHABYU",
      "include_colab_link": true
    },
    "kernelspec": {
      "name": "python3",
      "display_name": "Python 3"
    },
    "language_info": {
      "name": "python"
    }
  },
  "cells": [
    {
      "cell_type": "markdown",
      "metadata": {
        "id": "view-in-github",
        "colab_type": "text"
      },
      "source": [
        "<a href=\"https://colab.research.google.com/github/murshidp/data_science/blob/master/01nlptensorflow.ipynb\" target=\"_parent\"><img src=\"https://colab.research.google.com/assets/colab-badge.svg\" alt=\"Open In Colab\"/></a>"
      ]
    },
    {
      "cell_type": "code",
      "metadata": {
        "id": "bksq_xw7RBDG"
      },
      "source": [
        "import tensorflow as tf\n",
        "from tensorflow import keras\n",
        "from tensorflow.keras.preprocessing.text import Tokenizer"
      ],
      "execution_count": 4,
      "outputs": []
    },
    {
      "cell_type": "code",
      "metadata": {
        "id": "r_9_e1BwRUhN"
      },
      "source": [
        "sentences = [\"I love my dog\",\"I love my cat\"]"
      ],
      "execution_count": 5,
      "outputs": []
    },
    {
      "cell_type": "code",
      "metadata": {
        "id": "iZMegZALRzWZ"
      },
      "source": [
        "tokenizer = Tokenizer(num_words=100, oov_token=\"<OOV>\")\n",
        "tokenizer.fit_on_texts(sentences)"
      ],
      "execution_count": 12,
      "outputs": []
    },
    {
      "cell_type": "code",
      "metadata": {
        "colab": {
          "base_uri": "https://localhost:8080/"
        },
        "id": "IKEyCzAtSG9o",
        "outputId": "cc244bce-2167-463a-cc78-b5f263be567c"
      },
      "source": [
        "word_index = tokenizer.word_index\n",
        "print(word_index)"
      ],
      "execution_count": 13,
      "outputs": [
        {
          "output_type": "stream",
          "text": [
            "{'<OOV>': 1, 'i': 2, 'love': 3, 'my': 4, 'dog': 5, 'cat': 6}\n"
          ],
          "name": "stdout"
        }
      ]
    },
    {
      "cell_type": "code",
      "metadata": {
        "colab": {
          "base_uri": "https://localhost:8080/"
        },
        "id": "DMoD05LNSQ6g",
        "outputId": "ca1f5327-44f9-4116-83ab-045f940a07ce"
      },
      "source": [
        "print(tokenizer.word_counts)"
      ],
      "execution_count": 14,
      "outputs": [
        {
          "output_type": "stream",
          "text": [
            "OrderedDict([('i', 2), ('love', 2), ('my', 2), ('dog', 1), ('cat', 1)])\n"
          ],
          "name": "stdout"
        }
      ]
    },
    {
      "cell_type": "code",
      "metadata": {
        "colab": {
          "base_uri": "https://localhost:8080/"
        },
        "id": "8mdq7eRgSXGb",
        "outputId": "96dcbc61-9e5a-421f-dea1-e94693ce971d"
      },
      "source": [
        "seq = tokenizer.texts_to_sequences(sentences)\n",
        "print(seq)"
      ],
      "execution_count": 15,
      "outputs": [
        {
          "output_type": "stream",
          "text": [
            "[[2, 3, 4, 5], [2, 3, 4, 6]]\n"
          ],
          "name": "stdout"
        }
      ]
    },
    {
      "cell_type": "code",
      "metadata": {
        "id": "4_mm0depSpZA"
      },
      "source": [
        "test_data = [\"I really love my dog\", \"my dog loves my mantee\"]"
      ],
      "execution_count": 16,
      "outputs": []
    },
    {
      "cell_type": "code",
      "metadata": {
        "colab": {
          "base_uri": "https://localhost:8080/"
        },
        "id": "sE5NxY5YTiFq",
        "outputId": "409538b3-9638-40c1-f2c8-e895984541e8"
      },
      "source": [
        "test_seq  = tokenizer.texts_to_sequences(test_data)\n",
        "print(test_seq)"
      ],
      "execution_count": 17,
      "outputs": [
        {
          "output_type": "stream",
          "text": [
            "[[2, 1, 3, 4, 5], [4, 5, 1, 4, 1]]\n"
          ],
          "name": "stdout"
        }
      ]
    },
    {
      "cell_type": "code",
      "metadata": {
        "id": "hyZz2PZwTxKc"
      },
      "source": [
        "from tensorflow.keras.preprocessing.sequence import pad_sequences"
      ],
      "execution_count": 18,
      "outputs": []
    },
    {
      "cell_type": "code",
      "metadata": {
        "id": "_Yv2CB4AV4io"
      },
      "source": [
        "padded = pad_sequences(seq)"
      ],
      "execution_count": 19,
      "outputs": []
    },
    {
      "cell_type": "code",
      "metadata": {
        "colab": {
          "base_uri": "https://localhost:8080/"
        },
        "id": "hSlO-DGNWH7h",
        "outputId": "491b8837-0f4a-49b9-c93f-2d2fd3daf298"
      },
      "source": [
        "print(padded)"
      ],
      "execution_count": 20,
      "outputs": [
        {
          "output_type": "stream",
          "text": [
            "[[2 3 4 5]\n",
            " [2 3 4 6]]\n"
          ],
          "name": "stdout"
        }
      ]
    },
    {
      "cell_type": "code",
      "metadata": {
        "id": "UzgKspYNWJ5B"
      },
      "source": [
        "test_pad = pad_sequences(test_seq)"
      ],
      "execution_count": 21,
      "outputs": []
    },
    {
      "cell_type": "code",
      "metadata": {
        "colab": {
          "base_uri": "https://localhost:8080/"
        },
        "id": "H0ZfZpGNWQ4Q",
        "outputId": "1971b7e8-fbb5-4af5-fce6-b0f9cf34be1d"
      },
      "source": [
        "print(test_pad)"
      ],
      "execution_count": 22,
      "outputs": [
        {
          "output_type": "stream",
          "text": [
            "[[2 1 3 4 5]\n",
            " [4 5 1 4 1]]\n"
          ],
          "name": "stdout"
        }
      ]
    },
    {
      "cell_type": "code",
      "metadata": {
        "id": "kPGJa_c1WUrN"
      },
      "source": [
        "new_sent = [\"i love my dog\",\"i love my cat\",\"you love my dog\",\"do you think my dog is amazing\"]"
      ],
      "execution_count": 23,
      "outputs": []
    },
    {
      "cell_type": "code",
      "metadata": {
        "id": "aoTavYSYX7r_"
      },
      "source": [
        "tokenizer = Tokenizer(num_words=100, oov_token=\"<OOV>\")"
      ],
      "execution_count": 24,
      "outputs": []
    },
    {
      "cell_type": "code",
      "metadata": {
        "id": "iNJ3zPUyYDqo"
      },
      "source": [
        "tokenizer.fit_on_texts(new_sent)"
      ],
      "execution_count": 30,
      "outputs": []
    },
    {
      "cell_type": "code",
      "metadata": {
        "colab": {
          "base_uri": "https://localhost:8080/"
        },
        "id": "G9F2-U7LYJie",
        "outputId": "afb4c0ce-8ac5-439e-e9e8-d64f04ce8c93"
      },
      "source": [
        "word_index=tokenizer.word_index\n",
        "print(word_index)"
      ],
      "execution_count": 31,
      "outputs": [
        {
          "output_type": "stream",
          "text": [
            "{'<OOV>': 1, 'my': 2, 'love': 3, 'i': 4, 'dog': 5, 'cat': 6, 'you': 7, 'do': 8, 'think': 9, 'is': 10, 'amazing': 11}\n"
          ],
          "name": "stdout"
        }
      ]
    },
    {
      "cell_type": "code",
      "metadata": {
        "id": "21JD1n8RYQ5X"
      },
      "source": [
        "seq = tokenizer.texts_to_sequences(new_sent)"
      ],
      "execution_count": 32,
      "outputs": []
    },
    {
      "cell_type": "code",
      "metadata": {
        "id": "wkc9jVWuYcsm"
      },
      "source": [
        "padded = pad_sequences(seq)"
      ],
      "execution_count": 33,
      "outputs": []
    },
    {
      "cell_type": "code",
      "metadata": {
        "colab": {
          "base_uri": "https://localhost:8080/"
        },
        "id": "HAfapSNBYim1",
        "outputId": "8f0fe0c5-915f-4c1e-840e-9c5bcce166f4"
      },
      "source": [
        "print(padded)"
      ],
      "execution_count": 34,
      "outputs": [
        {
          "output_type": "stream",
          "text": [
            "[[ 0  0  0  4  3  2  5]\n",
            " [ 0  0  0  4  3  2  6]\n",
            " [ 0  0  0  7  3  2  5]\n",
            " [ 8  7  9  2  5 10 11]]\n"
          ],
          "name": "stdout"
        }
      ]
    },
    {
      "cell_type": "code",
      "metadata": {
        "colab": {
          "base_uri": "https://localhost:8080/"
        },
        "id": "ljUAB4CKYkU7",
        "outputId": "7d266dbc-33de-4f20-bd1e-42d5da871d68"
      },
      "source": [
        "padded = pad_sequences(seq,padding=\"post\")\n",
        "print(padded)"
      ],
      "execution_count": 35,
      "outputs": [
        {
          "output_type": "stream",
          "text": [
            "[[ 4  3  2  5  0  0  0]\n",
            " [ 4  3  2  6  0  0  0]\n",
            " [ 7  3  2  5  0  0  0]\n",
            " [ 8  7  9  2  5 10 11]]\n"
          ],
          "name": "stdout"
        }
      ]
    },
    {
      "cell_type": "code",
      "metadata": {
        "colab": {
          "base_uri": "https://localhost:8080/"
        },
        "id": "ATAAti3cZNE1",
        "outputId": "82acb1a3-87d7-4df6-9754-8027fc3bffab"
      },
      "source": [
        "padded = pad_sequences(seq,padding=\"post\", truncating=\"post\", maxlen=5)\n",
        "print(padded)"
      ],
      "execution_count": 40,
      "outputs": [
        {
          "output_type": "stream",
          "text": [
            "[[4 3 2 5 0]\n",
            " [4 3 2 6 0]\n",
            " [7 3 2 5 0]\n",
            " [8 7 9 2 5]]\n"
          ],
          "name": "stdout"
        }
      ]
    },
    {
      "cell_type": "code",
      "metadata": {
        "id": "6FvFUR9MZYNu"
      },
      "source": [
        ""
      ],
      "execution_count": null,
      "outputs": []
    }
  ]
}